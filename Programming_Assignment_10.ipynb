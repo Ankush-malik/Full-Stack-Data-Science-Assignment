{
 "cells": [
  {
   "cell_type": "markdown",
   "metadata": {},
   "source": [
    "# Programming_Assignment_10"
   ]
  },
  {
   "cell_type": "markdown",
   "metadata": {},
   "source": [
    "Ques_1:Write a Python program to find sum of elements in list."
   ]
  },
  {
   "cell_type": "code",
   "execution_count": 1,
   "metadata": {},
   "outputs": [
    {
     "name": "stdout",
     "output_type": "stream",
     "text": [
      "Enter the number of elements: 7\n",
      "2\n",
      "21\n",
      "33\n",
      "4\n",
      "6\n",
      "9\n",
      "10\n",
      "Sum of elements:  85\n"
     ]
    }
   ],
   "source": [
    "x=int(input(\"Enter the number of elements: \"))\n",
    "li=[int(input()) for i in range(x)]\n",
    "print(\"Sum of elements: \",sum(li))"
   ]
  },
  {
   "cell_type": "markdown",
   "metadata": {},
   "source": [
    "Ques_2:Write a Python program to Multiply all numbers in the list."
   ]
  },
  {
   "cell_type": "code",
   "execution_count": 2,
   "metadata": {},
   "outputs": [
    {
     "name": "stdout",
     "output_type": "stream",
     "text": [
      "Multiplication of all elements of list: 2993760\n"
     ]
    }
   ],
   "source": [
    "li=[2,21,33,4,6,9,10]\n",
    "res=1\n",
    "for i in li:\n",
    "    res*=i\n",
    "print(f\"Multiplication of all elements of list: {res}\")"
   ]
  },
  {
   "cell_type": "markdown",
   "metadata": {},
   "source": [
    "Ques_3:Write a Python program to find smallest number in a list."
   ]
  },
  {
   "cell_type": "code",
   "execution_count": 3,
   "metadata": {},
   "outputs": [
    {
     "name": "stdout",
     "output_type": "stream",
     "text": [
      "Smallest number in the list is:  1\n"
     ]
    }
   ],
   "source": [
    "li=[21,1,34,1,2,3,5,6,87,34]\n",
    "print(\"Smallest number in the list is: \",min(li))"
   ]
  },
  {
   "cell_type": "markdown",
   "metadata": {},
   "source": [
    "Ques_4:Write a Python program to find largest number in a list."
   ]
  },
  {
   "cell_type": "code",
   "execution_count": 4,
   "metadata": {},
   "outputs": [
    {
     "name": "stdout",
     "output_type": "stream",
     "text": [
      "Largest number in the list is:  87\n"
     ]
    }
   ],
   "source": [
    "li=[21,1,34,1,2,3,5,6,87,34]\n",
    "print(\"Largest number in the list is: \",max(li))"
   ]
  },
  {
   "cell_type": "markdown",
   "metadata": {},
   "source": [
    "Ques_5:Write a Python program to find second largest number in a list."
   ]
  },
  {
   "cell_type": "code",
   "execution_count": 6,
   "metadata": {},
   "outputs": [
    {
     "name": "stdout",
     "output_type": "stream",
     "text": [
      "Second largest element is: 34\n"
     ]
    }
   ],
   "source": [
    "import sys\n",
    "li=[21,1,34,1,2,3,5,6,87,34,34,87]\n",
    "lar=max(li)\n",
    "sec_lar=-sys.maxsize-1\n",
    "for i in li:\n",
    "    if(i>sec_lar and i!=lar):\n",
    "        sec_lar=i\n",
    "print(f\"Second largest element is: {sec_lar}\")"
   ]
  },
  {
   "cell_type": "markdown",
   "metadata": {},
   "source": [
    "Ques_6:Write a Python program to find N largest elements from a list."
   ]
  },
  {
   "cell_type": "code",
   "execution_count": 10,
   "metadata": {},
   "outputs": [
    {
     "name": "stdout",
     "output_type": "stream",
     "text": [
      "Enter the value of n to find n largest numbers from list: 4\n",
      "4 largest elements in the list are: \n",
      "[97, 87, 34, 21]\n"
     ]
    }
   ],
   "source": [
    "li=[21,1,34,1,2,3,5,6,87,34,34,87,97,97,97,97,97]\n",
    "n=int(input(\"Enter the value of n to find n largest numbers from list: \"))\n",
    "n_lar=-sys.maxsize-1\n",
    "l=[]\n",
    "for i in range(n):\n",
    "    n_lar=max(li)\n",
    "    l.append(n_lar)\n",
    "    for j in range(li.count(n_lar)):\n",
    "        li.remove(n_lar)\n",
    "print(f\"{n} largest elements in the list are: \")\n",
    "print(l)"
   ]
  },
  {
   "cell_type": "markdown",
   "metadata": {},
   "source": [
    "Ques_7:Write a Python program to print even numbers in a list."
   ]
  },
  {
   "cell_type": "code",
   "execution_count": 13,
   "metadata": {},
   "outputs": [
    {
     "name": "stdout",
     "output_type": "stream",
     "text": [
      "[34, 2, 6, 34, 34, 98, 102]\n",
      "After removing duplicate elements: \n",
      "[34, 2, 98, 102, 6]\n"
     ]
    }
   ],
   "source": [
    "li=[21,1,34,1,2,3,5,6,87,34,34,87,97,97,97,97,97,98,102]\n",
    "l=[i for i in li if i%2==0]\n",
    "print(l)\n",
    "print(\"After removing duplicate elements: \")\n",
    "print(list(set(l)))"
   ]
  },
  {
   "cell_type": "markdown",
   "metadata": {},
   "source": [
    "Ques_8:Write a Python program to print odd numbers in a List."
   ]
  },
  {
   "cell_type": "code",
   "execution_count": 14,
   "metadata": {},
   "outputs": [
    {
     "name": "stdout",
     "output_type": "stream",
     "text": [
      "[21, 1, 1, 3, 5, 87, 87, 97, 97, 97, 97, 97]\n",
      "After removing duplicate elements: \n",
      "[1, 97, 3, 5, 21, 87]\n"
     ]
    }
   ],
   "source": [
    "li=[21,1,34,1,2,3,5,6,87,34,34,87,97,97,97,97,97,98,102]\n",
    "l=[i for i in li if i%2!=0]\n",
    "print(l)\n",
    "print(\"After removing duplicate elements: \")\n",
    "print(list(set(l)))"
   ]
  },
  {
   "cell_type": "markdown",
   "metadata": {},
   "source": [
    ".Ques_9:Write a Python program to Remove empty List from List."
   ]
  },
  {
   "cell_type": "code",
   "execution_count": 18,
   "metadata": {},
   "outputs": [
    {
     "data": {
      "text/plain": [
       "[[1, 2, 3, 4], 'h3ll0', 2, 5.7, [12, 'ee']]"
      ]
     },
     "execution_count": 18,
     "metadata": {},
     "output_type": "execute_result"
    }
   ],
   "source": [
    "li=[[1,2,3,4],[],[],[],[],'h3ll0',2,5.7,[],[12,'ee'],[],[]]\n",
    "i=0\n",
    "while(i<len(li)):\n",
    "    if type(li[i])==list and not li[i]:         #empty list is treated as 0 0r False,,so not False=True\n",
    "        li.remove(li[i])\n",
    "        continue\n",
    "    i+=1\n",
    "li\n",
    "        "
   ]
  },
  {
   "cell_type": "markdown",
   "metadata": {},
   "source": [
    "Ques_10:Write a Python program to Cloning or Copying a list."
   ]
  },
  {
   "cell_type": "code",
   "execution_count": 25,
   "metadata": {},
   "outputs": [
    {
     "name": "stdout",
     "output_type": "stream",
     "text": [
      "[[1, 2, 3, 4], ['hello', 'world'], 21, 22, 45, 'data science']\n",
      "[[1, 2, 3, 4], ['hello', 'world'], 21, 22, 45, 'data science']\n",
      "[[1, 2, 3, 4], ['hello', 10000], 21, 'world', 45, 'data science', 'new element']\n",
      "[[1, 2, 3, 4], ['hello', 10000], 21, 'world', 45, 'data science', 'new element']\n",
      "////////////////////////////////////////////////////////////////////////////////////////////////////\n",
      "[[1, 2, 3, 4], ['hello', 'world'], 21, 22, 45, 'data science']\n",
      "[[1, 2, 3, 4], ['hello', 'world'], 21, 22, 45, 'data science']\n",
      "[[1, 2, 3, 4], ['hello', 10000], 21, 'world', 45, 'data science', 'new element']\n",
      "[[1, 2, 3, 4], ['hello', 10000], 21, 22, 45, 'data science']\n",
      "////////////////////////////////////////////////////////////////////////////////////////////////////\n",
      "[[1, 2, 3, 4], ['hello', 10000], 21, 'world', 45, 'data science']\n",
      "[[1, 2, 3, 4], ['hello', 'world'], 21, 22, 45, 'data science']\n"
     ]
    }
   ],
   "source": [
    "#will use =,copy() and deepcopy() functions.\n",
    "#method1\n",
    "l1=[[1,2,3,4],['hello','world'],21,22,45,'data science']\n",
    "l2=l1\n",
    "print(l1)\n",
    "print(l2)\n",
    "l1[1][1]=10000\n",
    "l1[3]='world'\n",
    "l1.append(\"new element\")\n",
    "print(l1)\n",
    "print(l2)    # in this reference of all objects of list are stored in both l1 and l2 so any changes made in one will be reflected in both.\n",
    "print(\"/\"*100)\n",
    "#method 2  using copy() method (Also called shallow copy)\n",
    "l1=[[1,2,3,4],['hello','world'],21,22,45,'data science']\n",
    "l2=l1.copy()\n",
    "print(l1)\n",
    "print(l2)\n",
    "l1[1][1]=10000  # nested objects' refrence will be shared by both lists and change will be reflected in both lists.\n",
    "l1[3]='world'   # In normal objects, they are copied and don't share common reference,,so changes in one will not be reflected in other.\n",
    "l1.append(\"new element\")\n",
    "print(l1)\n",
    "print(l2)\n",
    "print(\"/\"*100)\n",
    "#method 3 using deepcopy()\n",
    "import copy\n",
    "l1=[[1,2,3,4],['hello','world'],21,22,45,'data science']\n",
    "l2=copy.deepcopy(l1)\n",
    "l1[1][1]=10000           # In deep copy all the objects are copied to new location so change in one doesn't change second at all\n",
    "l1[3]='world'\n",
    "print(l1)\n",
    "print(l2)"
   ]
  },
  {
   "cell_type": "markdown",
   "metadata": {},
   "source": [
    "Ques_11:Write a Python program to Count occurrences of an element in a list?"
   ]
  },
  {
   "cell_type": "code",
   "execution_count": 20,
   "metadata": {},
   "outputs": [
    {
     "name": "stdout",
     "output_type": "stream",
     "text": [
      "Enter the element: 97\n",
      "5\n"
     ]
    }
   ],
   "source": [
    "li=[21,1,34,1,2,3,5,6,87,34,34,87,97,97,97,97,97,98,102]\n",
    "x=int(input(\"Enter the element: \"))\n",
    "print(li.count(x))"
   ]
  },
  {
   "cell_type": "code",
   "execution_count": null,
   "metadata": {},
   "outputs": [],
   "source": []
  }
 ],
 "metadata": {
  "kernelspec": {
   "display_name": "Python 3",
   "language": "python",
   "name": "python3"
  },
  "language_info": {
   "codemirror_mode": {
    "name": "ipython",
    "version": 3
   },
   "file_extension": ".py",
   "mimetype": "text/x-python",
   "name": "python",
   "nbconvert_exporter": "python",
   "pygments_lexer": "ipython3",
   "version": "3.8.5"
  }
 },
 "nbformat": 4,
 "nbformat_minor": 4
}
