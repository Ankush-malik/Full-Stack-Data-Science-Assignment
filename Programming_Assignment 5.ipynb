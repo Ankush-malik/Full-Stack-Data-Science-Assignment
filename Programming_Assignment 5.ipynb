{
 "cells": [
  {
   "cell_type": "markdown",
   "metadata": {},
   "source": [
    "# Programming_Assignment5"
   ]
  },
  {
   "cell_type": "markdown",
   "metadata": {},
   "source": [
    "Ques 1:Write a Python Program to Find LCM."
   ]
  },
  {
   "cell_type": "code",
   "execution_count": 4,
   "metadata": {},
   "outputs": [
    {
     "name": "stdout",
     "output_type": "stream",
     "text": [
      "Enter the total numbers: 4\n",
      "Enter 1th number: 5\n",
      "Enter 2th number: 8\n",
      "Enter 3th number: 3\n",
      "Enter 4th number: 7\n",
      "lcm is  840\n"
     ]
    }
   ],
   "source": [
    "n=int(input(\"Enter the total numbers: \"))\n",
    "li=[]\n",
    "for i in range(n):\n",
    "    x=int(input(\"Enter {}th number: \".format(i+1)))\n",
    "    li.append(x)\n",
    "m=max(li)\n",
    "lcm=-1\n",
    "while(True):\n",
    "    flag=0\n",
    "    for i in li:\n",
    "        if(m%i!=0):\n",
    "            flag=1\n",
    "    if(flag==0):\n",
    "        print(\"lcm is \",m)\n",
    "        break\n",
    "    else:\n",
    "        m+=1"
   ]
  },
  {
   "cell_type": "markdown",
   "metadata": {},
   "source": [
    "Ques 2:Write a Python Program to Find HCF."
   ]
  },
  {
   "cell_type": "code",
   "execution_count": 6,
   "metadata": {},
   "outputs": [
    {
     "name": "stdout",
     "output_type": "stream",
     "text": [
      "Enter first number:34\n",
      "Enter second number:289\n",
      "17\n"
     ]
    }
   ],
   "source": [
    "def gcd(a,b):\n",
    "    if a%b==0:\n",
    "        return b\n",
    "    else:\n",
    "        return gcd(b,a%b)\n",
    "x=int(input(\"Enter first number:\"))\n",
    "y=int(input(\"Enter second number:\"))\n",
    "if(x>y):\n",
    "    print(gcd(x,y))\n",
    "else:\n",
    "    print(gcd(y,x))"
   ]
  },
  {
   "cell_type": "markdown",
   "metadata": {},
   "source": [
    "Ques 3:Write a Python Program to Convert Decimal to Binary, Octal and Hexadecimal."
   ]
  },
  {
   "cell_type": "code",
   "execution_count": 18,
   "metadata": {},
   "outputs": [
    {
     "name": "stdout",
     "output_type": "stream",
     "text": [
      "Enter the number: 4052\n",
      "Binary equivalent: \n",
      "111111010100\n",
      "Octal equivalent: \n",
      "7724\n",
      "Hexadecimal Equivalent: \n",
      "FD4"
     ]
    }
   ],
   "source": [
    "x=int(input(\"Enter the number: \"))\n",
    "# Decimal to Binary conversion\n",
    "li=[]\n",
    "a=x\n",
    "while(a):\n",
    "    r=a%2\n",
    "    li.append(r)\n",
    "    a=a//2\n",
    "li.reverse()\n",
    "print(\"Binary equivalent: \")\n",
    "for i in li:\n",
    "    print(i,end='')\n",
    "print(\"\")\n",
    "#Decimal to octal conversion\n",
    "li=[]\n",
    "a=x\n",
    "while(a):\n",
    "    r=a%8\n",
    "    li.append(r)\n",
    "    a=a//8\n",
    "li.reverse()\n",
    "print(\"Octal equivalent: \")\n",
    "for i in li:\n",
    "    print(i,end='')\n",
    "print(\"\")\n",
    "# Decimal to hexadecimal\n",
    "li=[]\n",
    "a=x\n",
    "while(a):\n",
    "    r=a%16\n",
    "    if r>=10:\n",
    "        li.append(chr(ord('A') + (r-10)))\n",
    "    else:\n",
    "        li.append(r)\n",
    "    a=a//16\n",
    "li.reverse()\n",
    "print(\"Hexadecimal Equivalent: \")\n",
    "for i in li:\n",
    "    print(i,end='')"
   ]
  },
  {
   "cell_type": "markdown",
   "metadata": {},
   "source": [
    "Ques 4:Write a Python Program To Find ASCII value of a character."
   ]
  },
  {
   "cell_type": "code",
   "execution_count": 15,
   "metadata": {},
   "outputs": [
    {
     "name": "stdout",
     "output_type": "stream",
     "text": [
      "Enter a character: A\n",
      "ASCII value of A is 65\n"
     ]
    }
   ],
   "source": [
    "# Using ord() method \n",
    "x=input(\"Enter a character: \")\n",
    "print(f\"ASCII value of {x} is {ord(x)}\")"
   ]
  },
  {
   "cell_type": "markdown",
   "metadata": {},
   "source": [
    "Ques 5:Write a Python Program to Make a Simple Calculator with 4 basic mathematical operations."
   ]
  },
  {
   "cell_type": "code",
   "execution_count": 16,
   "metadata": {},
   "outputs": [
    {
     "name": "stdout",
     "output_type": "stream",
     "text": [
      "Enter first number: 90 \n",
      "Enter second number: 3\n",
      "Enter your choice.\n",
      "1.Addition\n",
      "2.Subtraction\n",
      "3.Multiplication\n",
      "4:Division4\n",
      "90.0 / 3.0 =30.0\n"
     ]
    }
   ],
   "source": [
    "x=float(input(\"Enter first number: \"))\n",
    "y=float(input(\"Enter second number: \"))\n",
    "ch=int(input(\"Enter your choice.\\n1.Addition\\n2.Subtraction\\n3.Multiplication\\n4:Division\"))\n",
    "if(ch==1):\n",
    "    print(f\"Sum of {x} and {y} is {x+y}\")\n",
    "elif ch==2:\n",
    "    print(f'{x} - {y} = {x-y}')\n",
    "elif ch==3:\n",
    "    print(f'{x} * {y} ={x*y}')\n",
    "elif ch==4:\n",
    "    print(f'{x} / {y} ={x/y}')\n",
    "else:\n",
    "    print(\"invalid choice.\")"
   ]
  },
  {
   "cell_type": "code",
   "execution_count": null,
   "metadata": {},
   "outputs": [],
   "source": []
  }
 ],
 "metadata": {
  "kernelspec": {
   "display_name": "Python 3",
   "language": "python",
   "name": "python3"
  },
  "language_info": {
   "codemirror_mode": {
    "name": "ipython",
    "version": 3
   },
   "file_extension": ".py",
   "mimetype": "text/x-python",
   "name": "python",
   "nbconvert_exporter": "python",
   "pygments_lexer": "ipython3",
   "version": "3.8.3"
  }
 },
 "nbformat": 4,
 "nbformat_minor": 4
}
