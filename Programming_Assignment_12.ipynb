{
 "cells": [
  {
   "cell_type": "markdown",
   "metadata": {},
   "source": [
    "# Programming_Assignment_12"
   ]
  },
  {
   "cell_type": "markdown",
   "metadata": {},
   "source": [
    "Ques_1:Write a Python program to Extract Unique values dictionary values.\n"
   ]
  },
  {
   "cell_type": "code",
   "execution_count": 1,
   "metadata": {},
   "outputs": [
    {
     "name": "stdout",
     "output_type": "stream",
     "text": [
      "['ankush', 'pity', '18bcs1188']\n"
     ]
    }
   ],
   "source": [
    "d={'name':'ankush','nickname':'ankush','mercy':'pity','sympathy':'pity','id':'18bcs1188','unique_id':'18bcs1188'}\n",
    "li=[]\n",
    "for j in d.values():\n",
    "    if j not in li :\n",
    "        li.append(j)\n",
    "print(li)"
   ]
  },
  {
   "cell_type": "markdown",
   "metadata": {},
   "source": [
    "Ques_2:Write a Python program to find the sum of all items in a dictionary."
   ]
  },
  {
   "cell_type": "code",
   "execution_count": 5,
   "metadata": {},
   "outputs": [
    {
     "name": "stdout",
     "output_type": "stream",
     "text": [
      "1500\n"
     ]
    }
   ],
   "source": [
    "d={'a':100,'b':200,'c':300,'d':400,'e':500}\n",
    "s=0\n",
    "for i in d:\n",
    "    s+=d[i]\n",
    "print(s)"
   ]
  },
  {
   "cell_type": "markdown",
   "metadata": {},
   "source": [
    "Ques_3:Write a Python program to Merging two Dictionaries."
   ]
  },
  {
   "cell_type": "code",
   "execution_count": 11,
   "metadata": {},
   "outputs": [
    {
     "name": "stdout",
     "output_type": "stream",
     "text": [
      "{'name': 'ankush', 'mercy': 'pity', 'id': '18bcs1188', 'a': 100, 'b': 200, 'c': 300, 'd': 400, 'e': 500}\n",
      "{'name': 'ankush', 'mercy': 'pity', 'id': '18bcs1188', 'a': 100, 'b': 200, 'c': 300, 'd': 400, 'e': 500}\n",
      "{'name': 'ankush', 'mercy': 'pity', 'id': '18bcs1188', 'a': 100, 'b': 200, 'c': 300, 'd': 400, 'e': 500}\n"
     ]
    }
   ],
   "source": [
    "#Method-1\n",
    "d1={'name':'ankush','mercy':'pity','id':'18bcs1188'}\n",
    "d2={'a':100,'b':200,'c':300,'d':400,'e':500}\n",
    "#let us merge d2 in d1\n",
    "for i in d2:\n",
    "    d1[i]=d2[i]\n",
    "print(d1)\n",
    "#Method_2 :  Using extend method\n",
    "d1.update(d2)\n",
    "print(d1)\n",
    "# Method_3 : Using ** method ,,,** is used to unrap dictionary and * to unrap list\n",
    "d={**d1,**d2}\n",
    "print(d)"
   ]
  },
  {
   "cell_type": "markdown",
   "metadata": {},
   "source": [
    "Ques_4:Write a Python program to convert key-values list to flat dictionary."
   ]
  },
  {
   "cell_type": "code",
   "execution_count": 15,
   "metadata": {},
   "outputs": [
    {
     "name": "stdout",
     "output_type": "stream",
     "text": [
      "Original dictionary: \n",
      " {'index': [1, 2, 3, 4], 'names': ['naik', 'krish', 'sudh', 'kumar']}\n",
      "Flattened dictionary: \n",
      "{1: 'naik', 2: 'krish', 3: 'sudh', 4: 'kumar'}\n"
     ]
    }
   ],
   "source": [
    "dic={'index':[1,2,3,4],'names':['naik','krish','sudh','kumar']}\n",
    "print('Original dictionary: \\n',dic)\n",
    "flat_dic=dict(zip(dic['index'],dic['names']))  #zip return tuple of each pair of two iterable objects positionwise.\n",
    "print(\"Flattened dictionary: \")\n",
    "print(flat_dic)"
   ]
  },
  {
   "cell_type": "markdown",
   "metadata": {},
   "source": [
    "Ques_5:Write a Python program to insertion at the beginning in OrderedDict."
   ]
  },
  {
   "cell_type": "code",
   "execution_count": 26,
   "metadata": {},
   "outputs": [
    {
     "name": "stdout",
     "output_type": "stream",
     "text": [
      "OrderedDict([('name', 'Ankush'), ('age', 21), ('interest', 'data science')])\n",
      "OrderedDict([('sex', 'male'), ('name', 'Ankush'), ('age', 21), ('interest', 'data science')])\n"
     ]
    }
   ],
   "source": [
    "from  collections import OrderedDict\n",
    "di=OrderedDict()\n",
    "di['name']='Ankush'\n",
    "di['age']=21\n",
    "di['interest']='data science'\n",
    "print(di)\n",
    "di['sex']='male'\n",
    "di.move_to_end('sex',last=False)\n",
    "print(\"After insertion at beginning\")\n",
    "print(di)"
   ]
  },
  {
   "cell_type": "markdown",
   "metadata": {},
   "source": [
    "Ques_6:Write a Python program to check order of character in string using OrderedDict()."
   ]
  },
  {
   "cell_type": "code",
   "execution_count": 16,
   "metadata": {},
   "outputs": [
    {
     "name": "stdout",
     "output_type": "stream",
     "text": [
      "Order is not preserved.\n"
     ]
    }
   ],
   "source": [
    "from collections import OrderedDict\n",
    "d=OrderedDict()\n",
    "s= \"engineers rock\"\n",
    "patt='egr'          # here this order is not preserved in s as e has come after g ,,,,so the order of e and g are not preserved.\n",
    "for i in patt:\n",
    "    d[i]=(s.index(i),len(s)-s[::-1].index(i)-1)    # here i have found first and last index of each character of pattern.\n",
    "#The logic is that the last index of preceding element in pattern should come before its succeeding element's first index\n",
    "#so that order of character is preserved in the string.\n",
    "#here i have used OrderedDict so the order of pattern is also preserved in it and can traverse in OrderedDict to get each element of pattern one by one in order.\n",
    "flag=1\n",
    "for i in range(len(patt)-1):\n",
    "    if d[patt[i]][1]>d[patt[i+1]][0]:\n",
    "        flag=0\n",
    "if flag==1:\n",
    "    print('Order is preserved in string.')\n",
    "else:\n",
    "    print('Order is not preserved.')\n",
    "        "
   ]
  },
  {
   "cell_type": "markdown",
   "metadata": {},
   "source": [
    "Ques_7:Write a Python program to sort Python Dictionaries by Key or Value."
   ]
  },
  {
   "cell_type": "code",
   "execution_count": 23,
   "metadata": {},
   "outputs": [
    {
     "name": "stdout",
     "output_type": "stream",
     "text": [
      "{1: 'naik', 2: 'krish', 3: 'sudh', 4: 'kumar', 5: 'ankush'}\n",
      "{5: 'ankush', 2: 'krish', 4: 'kumar', 1: 'naik', 3: 'sudh'}\n"
     ]
    }
   ],
   "source": [
    "#Sorting by keys\n",
    "d={1: 'naik', 2: 'krish',5:'ankush', 3: 'sudh', 4: 'kumar'}\n",
    "li=sorted(d)\n",
    "di={}\n",
    "for i in li:\n",
    "    di[i]=d[i]\n",
    "print(di)\n",
    "# Sorting by values:\n",
    "li=sorted(d,key=d.get)\n",
    "di={}\n",
    "for i in li:\n",
    "    di[i]=d[i]\n",
    "print(di)"
   ]
  },
  {
   "cell_type": "code",
   "execution_count": null,
   "metadata": {},
   "outputs": [],
   "source": []
  }
 ],
 "metadata": {
  "kernelspec": {
   "display_name": "Python 3",
   "language": "python",
   "name": "python3"
  },
  "language_info": {
   "codemirror_mode": {
    "name": "ipython",
    "version": 3
   },
   "file_extension": ".py",
   "mimetype": "text/x-python",
   "name": "python",
   "nbconvert_exporter": "python",
   "pygments_lexer": "ipython3",
   "version": "3.8.5"
  }
 },
 "nbformat": 4,
 "nbformat_minor": 4
}
