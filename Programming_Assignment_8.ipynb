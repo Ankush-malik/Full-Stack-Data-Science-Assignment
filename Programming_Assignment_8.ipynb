{
 "cells": [
  {
   "cell_type": "markdown",
   "metadata": {},
   "source": [
    "# Programming_Assignment_8"
   ]
  },
  {
   "cell_type": "markdown",
   "metadata": {},
   "source": [
    "Ques-1:Write a Python Program to Add Two Matrices."
   ]
  },
  {
   "cell_type": "code",
   "execution_count": 5,
   "metadata": {},
   "outputs": [
    {
     "name": "stdout",
     "output_type": "stream",
     "text": [
      "[8, 7, 9]\n",
      "[13, 19, 51]\n",
      "[24, 26, 29]\n"
     ]
    }
   ],
   "source": [
    "a=[[1,2,3],[4,7,8],[9,10,12]]\n",
    "b=[[7,5,6],[9,12,43],[15,16,17]]\n",
    "res=[[0,0,0],[0,0,0],[0,0,0]]\n",
    "for i in range(len(a)):\n",
    "    for j in range(len(a[0])):\n",
    "        res[i][j]=a[i][j]+b[i][j]\n",
    "for i in res:\n",
    "    print(i)"
   ]
  },
  {
   "cell_type": "markdown",
   "metadata": {},
   "source": [
    "Ques_2:Write a Python Program to Multiply Two Matrices."
   ]
  },
  {
   "cell_type": "code",
   "execution_count": 10,
   "metadata": {},
   "outputs": [
    {
     "name": "stdout",
     "output_type": "stream",
     "text": [
      "matrix A:\n",
      "[1, 2, 3]\n",
      "[4, 7, 8]\n",
      "[9, 10, 12]\n",
      "Matrix B\n",
      "[7, 5, 6, 9]\n",
      "[9, 12, 43, 8]\n",
      "[15, 16, 17, 11]\n",
      "A*B :\n",
      "[70, 77, 143, 58]\n",
      "[211, 232, 461, 180]\n",
      "[333, 357, 688, 293]\n"
     ]
    }
   ],
   "source": [
    "a=[[1,2,3],[4,7,8],[9,10,12]]\n",
    "b=[[7,5,6,9],[9,12,43,8],[15,16,17,11]]\n",
    "print(\"matrix A:\")\n",
    "for i in a:\n",
    "    print(i)\n",
    "print(\"Matrix B\")\n",
    "for i in b:\n",
    "    print(i)\n",
    "res=[[0,0,0,0],[0,0,0,0],[0,0,0,0]]\n",
    "for i in range(len(a)):         # res will have same no of rows as in a or first matrix\n",
    "    for j in range(len(b[0])):   #no of columns of res=no of columns of b\n",
    "        for k in range(len(a[0])):\n",
    "            res[i][j]+=a[i][k]*b[k][j]\n",
    "print(\"A*B :\")\n",
    "for i in res:\n",
    "    print(i)"
   ]
  },
  {
   "cell_type": "markdown",
   "metadata": {},
   "source": [
    "Ques_3:Write a Python Program to Transpose a Matrix."
   ]
  },
  {
   "cell_type": "code",
   "execution_count": 18,
   "metadata": {},
   "outputs": [
    {
     "name": "stdout",
     "output_type": "stream",
     "text": [
      "Matrix A:\n",
      "[1, 2, 3]\n",
      "[4, 5, 6]\n",
      "[7, 8, 9]\n",
      "[11, 12, 13]\n",
      "Transpose of A:\n",
      "[1, 4, 7, 11]\n",
      "[2, 5, 8, 12]\n",
      "[3, 6, 9, 13]\n"
     ]
    }
   ],
   "source": [
    "A=[[1,2,3],[4,5,6],[7,8,9],[11,12,13]]\n",
    "print(\"Matrix A:\")\n",
    "for i in A:\n",
    "    print(i)\n",
    "res=[[0,0,0,0],[0,0,0,0],[0,0,0,0]]\n",
    "for i in range(len(a[0])):\n",
    "    for j in range(len(A)):\n",
    "        res[i][j]=A[j][i]\n",
    "print(\"Transpose of A:\")\n",
    "for i in res:\n",
    "    print(i)\n"
   ]
  },
  {
   "cell_type": "markdown",
   "metadata": {},
   "source": [
    "Ques_4:Write a Python Program to Sort Words in Alphabetic Order."
   ]
  },
  {
   "cell_type": "code",
   "execution_count": 21,
   "metadata": {},
   "outputs": [
    {
     "name": "stdout",
     "output_type": "stream",
     "text": [
      "enter no of words you want to enter: 8\n",
      "sahil\n",
      "Swastik\n",
      "Aayush\n",
      "ankush\n",
      "Kuzuri\n",
      "krish\n",
      "krishan\n",
      "Zebra\n",
      "Words after sorting:\n",
      "aayush ankush krish krishan kuzuri sahil swastik zebra "
     ]
    }
   ],
   "source": [
    "x=int(input(\"enter no of words you want to enter: \"))\n",
    "li=[input().lower() for i in range(x)]\n",
    "li.sort()\n",
    "print(\"Words after sorting:\")\n",
    "for i in li:\n",
    "    print(i,end=\" \")"
   ]
  },
  {
   "cell_type": "markdown",
   "metadata": {},
   "source": [
    "Ques_5:Write a Python Program to Remove Punctuation From a String."
   ]
  },
  {
   "cell_type": "code",
   "execution_count": 26,
   "metadata": {},
   "outputs": [
    {
     "name": "stdout",
     "output_type": "stream",
     "text": [
      "Enter the string: hi, there my name is:Harish-malik,,,I'm 21 years old.\n",
      "hi there my name isHarishmalikIm 21 years old\n"
     ]
    }
   ],
   "source": [
    "punctuation = '''\"!()-[]{};:'\"\\,<>./?@#$%^&*_~'''  \n",
    "x=input(\"Enter the string: \")\n",
    "li=[]\n",
    "for i in x:\n",
    "    if i not in punctuation:\n",
    "        li.append(i)\n",
    "res=\"\".join(li)\n",
    "print(res)"
   ]
  },
  {
   "cell_type": "code",
   "execution_count": null,
   "metadata": {},
   "outputs": [],
   "source": []
  }
 ],
 "metadata": {
  "kernelspec": {
   "display_name": "Python 3",
   "language": "python",
   "name": "python3"
  },
  "language_info": {
   "codemirror_mode": {
    "name": "ipython",
    "version": 3
   },
   "file_extension": ".py",
   "mimetype": "text/x-python",
   "name": "python",
   "nbconvert_exporter": "python",
   "pygments_lexer": "ipython3",
   "version": "3.8.5"
  }
 },
 "nbformat": 4,
 "nbformat_minor": 4
}
