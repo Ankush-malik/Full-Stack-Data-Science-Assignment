{
 "cells": [
  {
   "cell_type": "markdown",
   "metadata": {},
   "source": [
    "# Programming_Assignment_11"
   ]
  },
  {
   "cell_type": "markdown",
   "metadata": {},
   "source": [
    "Ques_1:Write a Python program to find words which are greater than given length k."
   ]
  },
  {
   "cell_type": "code",
   "execution_count": 3,
   "metadata": {},
   "outputs": [
    {
     "name": "stdout",
     "output_type": "stream",
     "text": [
      "A paragraph is a series of related sentences developing a central idea, called the topic. Try to think about paragraphs in terms of thematic unity: a paragraph is a sentence or a group of sentences that supports one central, unified idea. Paragraphs add one idea at a time to your broader argument.\n",
      "Enter word length.4\n",
      "['paragraph', 'series', 'related', 'sentences', 'developing', 'central', 'idea,', 'called', 'topic.', 'think', 'about', 'paragraphs', 'terms', 'thematic', 'unity:', 'paragraph', 'sentence', 'group', 'sentences', 'supports', 'central,', 'unified', 'idea.', 'Paragraphs', 'broader', 'argument.']\n",
      "paragraph series related sentences developing central idea, called topic. think about paragraphs terms thematic unity: paragraph sentence group sentences supports central, unified idea. Paragraphs broader argument.\n"
     ]
    }
   ],
   "source": [
    "s=input().split()\n",
    "k=int(input(\"Enter word length.\"))\n",
    "li=[i for i in s if len(i)>k]\n",
    "print(li)\n",
    "print(' '.join(li))"
   ]
  },
  {
   "cell_type": "markdown",
   "metadata": {},
   "source": [
    "Ques_2:Write a Python program for removing i-th character from a string."
   ]
  },
  {
   "cell_type": "code",
   "execution_count": 6,
   "metadata": {},
   "outputs": [
    {
     "name": "stdout",
     "output_type": "stream",
     "text": [
      "Enter string: Ankush-malik\n",
      "Enter the index of character you want to remove:2\n",
      "Anush-malik\n"
     ]
    }
   ],
   "source": [
    "s=list(input(\"Enter string: \"))\n",
    "k=int(input(\"Enter the index of character you want to remove:\"))\n",
    "if k>=0 and k<len(s):\n",
    "    s.pop(k)\n",
    "print(''.join(s))"
   ]
  },
  {
   "cell_type": "markdown",
   "metadata": {},
   "source": [
    "Ques_3:Write a Python program to split and join a string."
   ]
  },
  {
   "cell_type": "code",
   "execution_count": 7,
   "metadata": {},
   "outputs": [
    {
     "name": "stdout",
     "output_type": "stream",
     "text": [
      "['hello', ' this is full stack data science', ' Ankush', 'malik', 'happy', 'learning']\n",
      "hello, this is full stack data science, Ankush,malik,happy,learning\n"
     ]
    }
   ],
   "source": [
    "s=\"hello, this is full stack data science, Ankush,malik,happy,learning\"\n",
    "li=s.split(',')\n",
    "print(li)\n",
    "st=','.join(li)\n",
    "print(st)"
   ]
  },
  {
   "cell_type": "markdown",
   "metadata": {},
   "source": [
    "Ques_4:Write a Python to check if a given string is binary string or not."
   ]
  },
  {
   "cell_type": "code",
   "execution_count": 11,
   "metadata": {},
   "outputs": [
    {
     "name": "stdout",
     "output_type": "stream",
     "text": [
      "Enter the string1011101111111000\n",
      "{'1', '0'}\n",
      "String is binary.\n",
      "Binary String\n"
     ]
    }
   ],
   "source": [
    "#Method1: Using set\n",
    "s=input(\"Enter the string\")\n",
    "t=set(s)\n",
    "print(t)\n",
    "if t=={'0','1'} or t=={'0'} or t=={'1'}:\n",
    "    print(\"String is binary.\")\n",
    "else:\n",
    "    print(\"Not binary string.\")\n",
    "#method2: Using simple iteration\n",
    "flag=0\n",
    "for i in s:\n",
    "    if i=='0' or i=='1':\n",
    "        continue\n",
    "    else:\n",
    "        flag=1\n",
    "if(flag==0):\n",
    "    print(\"Binary String\")\n",
    "else:\n",
    "    print(\"Not binary string.\")\n"
   ]
  },
  {
   "cell_type": "markdown",
   "metadata": {},
   "source": [
    "Ques_5:Write a Python program to find uncommon words from two Strings."
   ]
  },
  {
   "cell_type": "code",
   "execution_count": 17,
   "metadata": {},
   "outputs": [
    {
     "name": "stdout",
     "output_type": "stream",
     "text": [
      "%%%%%%%%%%%%%%%%%%%%%%%%%%%%%%%%%%%%%%%%%%%%%%%%%%method1%%%%%%%%%%%%%%%%%%%%%%%%%%%%%%%%%%%%%%%%%%%%%%%%%%\n",
      "Enter first string: apple banana mango cherry\n",
      "Enter second string: mango guava papaya blackberry banana\n",
      "['apple', 'cherry', 'guava', 'papaya', 'blackberry']\n",
      "%%%%%%%%%%%%%%%%%%%%%%%%%%%%%%%%%%%%%%%%%%%%%%%%%%method2%%%%%%%%%%%%%%%%%%%%%%%%%%%%%%%%%%%%%%%%%%%%%%%%%%\n",
      "{'apple', 'blackberry', 'papaya', 'guava', 'cherry'}\n"
     ]
    }
   ],
   "source": [
    "#method 1\n",
    "print('%'*50+'method1'+'%'*50)\n",
    "a=input(\"Enter first string: \")\n",
    "b=input(\"Enter second string: \")\n",
    "li=[]\n",
    "for i in a.split():\n",
    "    if i not in b.split():\n",
    "        li.append(i)\n",
    "for i in b.split():\n",
    "    if i not in a.split():\n",
    "        li.append(i)\n",
    "print(li)\n",
    "#method2\n",
    "print('%'*50+'method2'+'%'*50)\n",
    "li=set(a.split()).symmetric_difference(set(b.split()))\n",
    "print(li)"
   ]
  },
  {
   "cell_type": "markdown",
   "metadata": {},
   "source": [
    "Ques_6:Write a Python to find all duplicate characters in string."
   ]
  },
  {
   "cell_type": "code",
   "execution_count": 20,
   "metadata": {},
   "outputs": [
    {
     "name": "stdout",
     "output_type": "stream",
     "text": [
      "Enter the string: an kush malik\n",
      "a   k "
     ]
    }
   ],
   "source": [
    "x=input(\"Enter the string: \")\n",
    "d={}\n",
    "for i in list(x):\n",
    "    d[i]=d.get(i,0)+1\n",
    "for i in d:\n",
    "    if(d[i]>1):\n",
    "        print(i,end=\" \")"
   ]
  },
  {
   "cell_type": "markdown",
   "metadata": {},
   "source": [
    "Ques_7:Write a Python Program to check if a string contains any special character."
   ]
  },
  {
   "cell_type": "code",
   "execution_count": 3,
   "metadata": {},
   "outputs": [
    {
     "name": "stdout",
     "output_type": "stream",
     "text": [
      "Enter the string.hell0@world123\n",
      "String Rejected\n"
     ]
    }
   ],
   "source": [
    "import re\n",
    "pattern=re.compile(r'[@_!#$%^&*()<>?/\\|}{~:]')     #here i have taken raw string and taken special characters in character set.\n",
    "s=input(\"Enter the string.\")\n",
    "match=pattern.search(s)                #search method returns None if match not found and returns first match if found.\n",
    "if match==None:\n",
    "    print('String accepted')\n",
    "else:\n",
    "    print(\"String Rejected\")"
   ]
  },
  {
   "cell_type": "code",
   "execution_count": null,
   "metadata": {},
   "outputs": [],
   "source": []
  }
 ],
 "metadata": {
  "kernelspec": {
   "display_name": "Python 3",
   "language": "python",
   "name": "python3"
  },
  "language_info": {
   "codemirror_mode": {
    "name": "ipython",
    "version": 3
   },
   "file_extension": ".py",
   "mimetype": "text/x-python",
   "name": "python",
   "nbconvert_exporter": "python",
   "pygments_lexer": "ipython3",
   "version": "3.8.5"
  }
 },
 "nbformat": 4,
 "nbformat_minor": 4
}
