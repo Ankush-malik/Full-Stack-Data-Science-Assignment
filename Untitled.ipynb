{
 "cells": [
  {
   "cell_type": "markdown",
   "metadata": {},
   "source": [
    "# Programming_Assignment4"
   ]
  },
  {
   "cell_type": "markdown",
   "metadata": {},
   "source": [
    "Ques 1:Write a Python Program to Find the Factorial of a Number."
   ]
  },
  {
   "cell_type": "code",
   "execution_count": 3,
   "metadata": {},
   "outputs": [
    {
     "name": "stdout",
     "output_type": "stream",
     "text": [
      "Enter the number7\n",
      "5040\n"
     ]
    }
   ],
   "source": [
    "#Using Recursive method\n",
    "def fact(n):\n",
    "    if n==1:\n",
    "        return 1\n",
    "    else:\n",
    "        return n*fact(n-1)\n",
    "x=int(input(\"Enter the number\"))\n",
    "#print(fact(5))\n",
    "#print(fact(7))\n",
    "print(fact(x))"
   ]
  },
  {
   "cell_type": "markdown",
   "metadata": {},
   "source": [
    "Ques 2:Write a Python Program to Display the multiplication Table."
   ]
  },
  {
   "cell_type": "code",
   "execution_count": 4,
   "metadata": {},
   "outputs": [
    {
     "name": "stdout",
     "output_type": "stream",
     "text": [
      "Enter the number :13\n",
      "13 * 1 = 13\n",
      "13 * 2 = 26\n",
      "13 * 3 = 39\n",
      "13 * 4 = 52\n",
      "13 * 5 = 65\n",
      "13 * 6 = 78\n",
      "13 * 7 = 91\n",
      "13 * 8 = 104\n",
      "13 * 9 = 117\n",
      "13 * 10 = 130\n"
     ]
    }
   ],
   "source": [
    "x=int(input(\"Enter the number :\"))\n",
    "for i in range(1,11):\n",
    "    print(f'{x} * {i} = {x*i}')"
   ]
  },
  {
   "cell_type": "markdown",
   "metadata": {},
   "source": [
    "Ques 3: Write a Python Program to Print the Fibonacci sequence."
   ]
  },
  {
   "cell_type": "code",
   "execution_count": 8,
   "metadata": {},
   "outputs": [
    {
     "name": "stdout",
     "output_type": "stream",
     "text": [
      "Enter the number of terms: 10\n",
      "1 1 2 3 5 8 13 21 34 55 "
     ]
    }
   ],
   "source": [
    "# Fibonacci series= 1 1 2 3 5 8....      F(1)=F(2)=1, F(n)=F(n-1)+F(n-2)\n",
    "#Using recursive approach\n",
    "def fibb(n):\n",
    "    if(n==1 or n==2):\n",
    "        return 1\n",
    "    else:\n",
    "        return fibb(n-1)+fibb(n-2)\n",
    "x=int(input(\"Enter the number of terms: \"))\n",
    "if x<=0:\n",
    "    print(\"Enter valid number of terms.\")\n",
    "else:\n",
    "    for i in range(1,x+1):\n",
    "        print(fibb(i),end=' ')"
   ]
  },
  {
   "cell_type": "markdown",
   "metadata": {},
   "source": [
    "Ques 4:Write a Python Program to Check Armstrong Number?"
   ]
  },
  {
   "cell_type": "code",
   "execution_count": 10,
   "metadata": {},
   "outputs": [
    {
     "name": "stdout",
     "output_type": "stream",
     "text": [
      "Enter the number :371\n",
      "371 is an armstrong number\n"
     ]
    }
   ],
   "source": [
    "#Armstrong numbers are those if sum of cube of its digit is equal to number itself.\n",
    "x=int(input(\"Enter the number :\"))\n",
    "sum=0;a=x        \n",
    "while(a):\n",
    "    r=a%10       #extracting each digit from number\n",
    "    sum+=r**3    #evaluating cube of number and storing it in sum var.\n",
    "    a=a//10      #removing the digit from the number that have been processed.\n",
    "if(x==sum):\n",
    "    print(f\"{x} is an armstrong number\")\n",
    "else:\n",
    "    print(f\"{x} is not an armstrong number\")"
   ]
  },
  {
   "cell_type": "markdown",
   "metadata": {},
   "source": [
    "Ques 5:Write a Python Program to Find Armstrong Number in an Interval?"
   ]
  },
  {
   "cell_type": "code",
   "execution_count": 18,
   "metadata": {},
   "outputs": [
    {
     "name": "stdout",
     "output_type": "stream",
     "text": [
      "Enter lower bound: 100\n",
      "Enter upper bound: 500\n",
      "153 370 371 407 "
     ]
    }
   ],
   "source": [
    "def arms(n):\n",
    "    sum=0;a=n\n",
    "    while(a):\n",
    "        r=a%10\n",
    "        sum+=r**3\n",
    "        a=a//10\n",
    "    if(sum==n):\n",
    "        return True\n",
    "    else:\n",
    "        return False\n",
    "a=int(input(\"Enter lower bound: \"))\n",
    "b=int(input(\"Enter upper bound: \"))\n",
    "for i in range(a,b+1):    #let us say both are inclusive\n",
    "    if(arms(i)):\n",
    "        print(i,end=\" \")"
   ]
  },
  {
   "cell_type": "markdown",
   "metadata": {},
   "source": [
    "Ques 6:Write a Python Program to Find the Sum of Natural Numbers?"
   ]
  },
  {
   "cell_type": "code",
   "execution_count": 21,
   "metadata": {},
   "outputs": [
    {
     "name": "stdout",
     "output_type": "stream",
     "text": [
      "Enter the number upto which we have to find the sum: 10\n",
      "Sum using formula is :  55.0\n",
      "Sum using loop : 55\n"
     ]
    }
   ],
   "source": [
    "#Method 1 Using O(1) approach that is direct formula. Sum of first n natural numbers: n*(n+1)/2\n",
    "#method 2 : Using loop an iterating.. O(n)\n",
    "n=(int(input(\"Enter the number upto which we have to find the sum: \")))\n",
    "print(\"Sum using formula is : \",n*(n+1)/2)\n",
    "sum=0;\n",
    "for i in range(1,n+1):\n",
    "    sum+=i\n",
    "print(\"Sum using loop :\",sum)"
   ]
  },
  {
   "cell_type": "code",
   "execution_count": null,
   "metadata": {},
   "outputs": [],
   "source": []
  }
 ],
 "metadata": {
  "kernelspec": {
   "display_name": "Python 3",
   "language": "python",
   "name": "python3"
  },
  "language_info": {
   "codemirror_mode": {
    "name": "ipython",
    "version": 3
   },
   "file_extension": ".py",
   "mimetype": "text/x-python",
   "name": "python",
   "nbconvert_exporter": "python",
   "pygments_lexer": "ipython3",
   "version": "3.8.3"
  }
 },
 "nbformat": 4,
 "nbformat_minor": 4
}
