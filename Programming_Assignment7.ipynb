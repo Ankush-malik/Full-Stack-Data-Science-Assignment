{
 "cells": [
  {
   "cell_type": "markdown",
   "metadata": {},
   "source": [
    "# Programming_Assignment7"
   ]
  },
  {
   "cell_type": "markdown",
   "metadata": {},
   "source": [
    "Ques_1:Write a Python Program to find sum of array."
   ]
  },
  {
   "cell_type": "code",
   "execution_count": 2,
   "metadata": {},
   "outputs": [
    {
     "name": "stdout",
     "output_type": "stream",
     "text": [
      "enter the number of elements in array:5\n",
      "1\n",
      "5\n",
      "7\n",
      "8\n",
      "9\n",
      "sum of array is:  30\n",
      "sum of array is:  30\n"
     ]
    }
   ],
   "source": [
    "x=int(input(\"enter the number of elements in array:\"))\n",
    "arr=[]\n",
    "for i in range(x):\n",
    "    arr.append(int(input()))\n",
    "#method=1 : using inbuilt method.\n",
    "print(\"sum of array is: \",sum(arr))\n",
    "#method=2 : using for loop.\n",
    "s=0\n",
    "for i in arr:\n",
    "    s+=i\n",
    "print(\"sum of array is: \",s)"
   ]
  },
  {
   "cell_type": "markdown",
   "metadata": {},
   "source": [
    "Ques_2:Write a Python Program to find largest element in an array."
   ]
  },
  {
   "cell_type": "code",
   "execution_count": 6,
   "metadata": {},
   "outputs": [
    {
     "name": "stdout",
     "output_type": "stream",
     "text": [
      "Enter the size of array: 7\n",
      "124\n",
      "331\n",
      "58\n",
      "179\n",
      "700\n",
      "489\n",
      "111\n",
      "Largest element in an array:  700\n",
      "Largest element in an array is:  700\n"
     ]
    }
   ],
   "source": [
    "import sys\n",
    "x=int(input(\"Enter the size of array: \"))\n",
    "arr=[int(input()) for i in range(x) ]\n",
    "#M1\n",
    "print(\"Largest element in an array: \",max(arr))\n",
    "#M2\n",
    "l=-sys.maxsize-1\n",
    "for i in arr:\n",
    "    if i>l:\n",
    "        l=i\n",
    "print(\"Largest element in an array is: \",l)"
   ]
  },
  {
   "cell_type": "markdown",
   "metadata": {},
   "source": [
    "Ques_3:Write a Python Program for array rotation."
   ]
  },
  {
   "cell_type": "code",
   "execution_count": 14,
   "metadata": {},
   "outputs": [
    {
     "name": "stdout",
     "output_type": "stream",
     "text": [
      "Enter the size of array: 7\n",
      "1\n",
      "2\n",
      "3\n",
      "4\n",
      "5\n",
      "6\n",
      "7\n",
      "Enter the value of rotation factor: 2\n",
      "[1, 2, 3, 4, 5, 6, 7]\n",
      "[3, 4, 5, 6, 7, 1, 2]\n"
     ]
    }
   ],
   "source": [
    "#Left rotation\n",
    "'''method1 = In this approach i have used an extra array so space complexity=O(n ;where n is the size of array) and one single \n",
    "loop is there so time complexity will O(n)'''\n",
    "x=int(input(\"Enter the size of array: \"))\n",
    "arr=[int(input()) for i in range(x) ]\n",
    "r=int(input(\"Enter the value of rotation factor: \"))\n",
    "li=[]\n",
    "print(arr)\n",
    "for i in range(len(arr)):\n",
    "    li.append(arr[(i+2)%len(arr)])    \n",
    "print(li)\n"
   ]
  },
  {
   "cell_type": "markdown",
   "metadata": {},
   "source": [
    "Ques_4:Write a Python Program to Split the array and add the first part to the end."
   ]
  },
  {
   "cell_type": "code",
   "execution_count": null,
   "metadata": {},
   "outputs": [],
   "source": [
    "# x=int(input(\"Enter the size of array: \"))\n",
    "arr=[int(input()) for i in range(x) ]\n",
    "print(\"Array efore splitting\",arr)\n",
    "k=int(input(\"splitting index: \"))\n",
    "print(f\" Array after splitting at index {k} is {list(arr[k:]+arr[0:k])}\")"
   ]
  },
  {
   "cell_type": "markdown",
   "metadata": {},
   "source": [
    "Ques_5:Write a Python Program to check if given array is Monotonic."
   ]
  },
  {
   "cell_type": "code",
   "execution_count": 24,
   "metadata": {},
   "outputs": [
    {
     "name": "stdout",
     "output_type": "stream",
     "text": [
      "Enter the size of array: 9\n",
      "Enter array values sepataed by space: 1 2 3 4 5 7 6 8 9\n",
      "False\n"
     ]
    }
   ],
   "source": [
    "#here all() fun is used , it returns True if all values are True in the iterable object and takes iterable object as argument\n",
    "x=int(input(\"Enter the size of array: \"))\n",
    "arr=input(\"Enter array values sepataed by space: \").split()\n",
    "flag=0\n",
    "a=(all(arr[i]<=arr[i+1] for i in range(len(arr)-1)) or all(arr[i]>=arr[i+1] for i in range(len(arr)-1)))\n",
    "print(a)"
   ]
  },
  {
   "cell_type": "code",
   "execution_count": null,
   "metadata": {},
   "outputs": [],
   "source": []
  }
 ],
 "metadata": {
  "kernelspec": {
   "display_name": "Python 3",
   "language": "python",
   "name": "python3"
  },
  "language_info": {
   "codemirror_mode": {
    "name": "ipython",
    "version": 3
   },
   "file_extension": ".py",
   "mimetype": "text/x-python",
   "name": "python",
   "nbconvert_exporter": "python",
   "pygments_lexer": "ipython3",
   "version": "3.8.5"
  }
 },
 "nbformat": 4,
 "nbformat_minor": 4
}
