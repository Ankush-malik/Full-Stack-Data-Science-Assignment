{
 "cells": [
  {
   "cell_type": "markdown",
   "metadata": {},
   "source": [
    "# Programming_Assignment_9"
   ]
  },
  {
   "cell_type": "markdown",
   "metadata": {},
   "source": [
    "Ques_1:Write a Python program to check if the given number is a Disarium Number."
   ]
  },
  {
   "cell_type": "code",
   "execution_count": 6,
   "metadata": {},
   "outputs": [
    {
     "name": "stdout",
     "output_type": "stream",
     "text": [
      "Enter the number: 135\n",
      "Given number is Disarium number.\n"
     ]
    }
   ],
   "source": [
    "# A number is called Disarium if sum of its digits powered with their respective positions is equal to the number itself.\n",
    "#example 135 is disarium number as: 1^1 + 3^2 + 5^3==1+9+125=135\n",
    "x=int(input(\"Enter the number: \"))\n",
    "sum=0\n",
    "a=x\n",
    "n=0                  #number of digits in number\n",
    "while a:             #counting no of digits in x(given int)\n",
    "    a=a//10\n",
    "    n+=1\n",
    "a=x\n",
    "while n:\n",
    "    r=a%10\n",
    "    sum+=r**n\n",
    "    a=a//10\n",
    "    n-=1\n",
    "if sum==x:\n",
    "    print(\"Given number is Disarium number.\")\n",
    "else:\n",
    "    print(\"not a disarium number.\")"
   ]
  },
  {
   "cell_type": "markdown",
   "metadata": {},
   "source": [
    "Ques_2:Write a Python program to print all disarium numbers between 1 to 100."
   ]
  },
  {
   "cell_type": "code",
   "execution_count": 10,
   "metadata": {},
   "outputs": [
    {
     "name": "stdout",
     "output_type": "stream",
     "text": [
      " All disarium numbers between 1 and 100 are:\n",
      "1 2 3 4 5 6 7 8 9 89 "
     ]
    }
   ],
   "source": [
    "def disarium(b):\n",
    "    n=len(str(b))\n",
    "    a=b\n",
    "    sum=0\n",
    "    while n:\n",
    "        r=a%10\n",
    "        sum+=r**n\n",
    "        a=a//10\n",
    "        n-=1\n",
    "    if sum==b:\n",
    "        print(b,end=\" \")\n",
    "print(\" All disarium numbers between 1 and 100 are:\")\n",
    "for i in range(1,101):\n",
    "    disarium(i)"
   ]
  },
  {
   "cell_type": "markdown",
   "metadata": {},
   "source": [
    "Ques_3:Write a Python program to check if the given number is Happy Number."
   ]
  },
  {
   "cell_type": "code",
   "execution_count": 17,
   "metadata": {},
   "outputs": [
    {
     "name": "stdout",
     "output_type": "stream",
     "text": [
      "82 Is a happy number.\n",
      "4 Not a happy  number.\n",
      "32 Is a happy number.\n"
     ]
    }
   ],
   "source": [
    "def happy(num):\n",
    "    a=num\n",
    "    while a!=1 and a!=4:\n",
    "        sum=0\n",
    "        while a:\n",
    "            r=a%10\n",
    "            sum+=r**2\n",
    "            a=a//10\n",
    "        a=sum\n",
    "    if(a==1):\n",
    "        print(f\"{num} Is a happy number.\")\n",
    "    else:\n",
    "        print(f\"{num} Not a happy  number.\")\n",
    "happy(82)\n",
    "happy(4)\n",
    "happy(32)"
   ]
  },
  {
   "cell_type": "markdown",
   "metadata": {},
   "source": [
    "Ques_4:Write a Python program to print all happy numbers between 1 and 100."
   ]
  },
  {
   "cell_type": "code",
   "execution_count": 18,
   "metadata": {},
   "outputs": [
    {
     "name": "stdout",
     "output_type": "stream",
     "text": [
      "1 7 10 13 19 23 28 31 32 44 49 68 70 79 82 86 91 94 97 100 "
     ]
    }
   ],
   "source": [
    "def happy(num):\n",
    "    a=num\n",
    "    while a!=1 and a!=4:\n",
    "        sum=0\n",
    "        while a:\n",
    "            r=a%10\n",
    "            sum+=r**2\n",
    "            a=a//10\n",
    "        a=sum\n",
    "    if a==1:\n",
    "        print(num,end=\" \")\n",
    "for i in range(1,101):\n",
    "    happy(i)\n",
    "          \n",
    "    "
   ]
  },
  {
   "cell_type": "markdown",
   "metadata": {},
   "source": [
    "Ques_5:Write a Python program to determine whether the given number is a Harshad Number."
   ]
  },
  {
   "cell_type": "code",
   "execution_count": 24,
   "metadata": {},
   "outputs": [
    {
     "name": "stdout",
     "output_type": "stream",
     "text": [
      "156 is a harshad number.\n",
      "56 is not a harshad number.\n",
      "100 is a harshad number.\n"
     ]
    }
   ],
   "source": [
    "def harshad(num):\n",
    "    a=num\n",
    "    s=0\n",
    "    while a:\n",
    "        s+=a%10\n",
    "        a=a//10\n",
    "    if num%s==0:\n",
    "        print(f'{num} is a harshad number.')\n",
    "    else:\n",
    "        print(f'{num} is not a harshad number.')\n",
    "harshad(156) \n",
    "harshad(56)\n",
    "harshad(100)"
   ]
  },
  {
   "cell_type": "markdown",
   "metadata": {},
   "source": [
    "Ques_6:Write a Python program to print all pronic numbers between 1 and 100."
   ]
  },
  {
   "cell_type": "code",
   "execution_count": 26,
   "metadata": {},
   "outputs": [
    {
     "name": "stdout",
     "output_type": "stream",
     "text": [
      "6 12 20 30 42 56 72 90 "
     ]
    }
   ],
   "source": [
    "def pronic(num):\n",
    "    flag=0\n",
    "    for i in range(num//2):\n",
    "        if i*(i+1)==num:\n",
    "            flag=1\n",
    "            break\n",
    "    if flag==1:\n",
    "        print(num,end=\" \")\n",
    "for i in range(1,101):\n",
    "    pronic(i)"
   ]
  },
  {
   "cell_type": "code",
   "execution_count": null,
   "metadata": {},
   "outputs": [],
   "source": []
  }
 ],
 "metadata": {
  "kernelspec": {
   "display_name": "Python 3",
   "language": "python",
   "name": "python3"
  },
  "language_info": {
   "codemirror_mode": {
    "name": "ipython",
    "version": 3
   },
   "file_extension": ".py",
   "mimetype": "text/x-python",
   "name": "python",
   "nbconvert_exporter": "python",
   "pygments_lexer": "ipython3",
   "version": "3.8.5"
  }
 },
 "nbformat": 4,
 "nbformat_minor": 4
}
