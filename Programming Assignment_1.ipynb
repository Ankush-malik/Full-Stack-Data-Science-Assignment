{
 "cells": [
  {
   "cell_type": "markdown",
   "metadata": {},
   "source": [
    "# Programming Assignment_1"
   ]
  },
  {
   "cell_type": "markdown",
   "metadata": {},
   "source": [
    "Ques 1: Write a Python pogram to print Hello Python\""
   ]
  },
  {
   "cell_type": "code",
   "execution_count": 1,
   "metadata": {},
   "outputs": [
    {
     "name": "stdout",
     "output_type": "stream",
     "text": [
      "Hello Python\n",
      "\"Hello Python\"\n"
     ]
    }
   ],
   "source": [
    "print(\"Hello Python\")\n",
    "print('\"Hello Python\"')"
   ]
  },
  {
   "cell_type": "markdown",
   "metadata": {},
   "source": [
    "Ques 2: Write a Python program to do arithmetical operations addition and division."
   ]
  },
  {
   "cell_type": "code",
   "execution_count": 4,
   "metadata": {},
   "outputs": [
    {
     "name": "stdout",
     "output_type": "stream",
     "text": [
      "Enter first number:3\n",
      "Enter second number:0\n",
      "Enter your choice : 1:addition 2:Division2\n",
      "Can not divide a number by zero\n"
     ]
    }
   ],
   "source": [
    "x=float(input(\"Enter first number:\"))\n",
    "y=float(input(\"Enter second number:\"))\n",
    "ch=int(input(\"Enter your choice : 1:addition 2:Division\"))\n",
    "try:\n",
    "    if(ch==1):\n",
    "        print(f\"Sum of both numbers is {x+y}\")\n",
    "    elif(ch==2):\n",
    "        a=x/y\n",
    "        print(f'Division:{a}')\n",
    "    else:\n",
    "        print(\"invalid choice\")\n",
    "except ZeroDivisionError:\n",
    "    print(\"Can not divide a number by zero\")"
   ]
  },
  {
   "cell_type": "markdown",
   "metadata": {},
   "source": [
    "Ques 3:Write a python program to find out area o a triangle.\n"
   ]
  },
  {
   "cell_type": "code",
   "execution_count": 1,
   "metadata": {},
   "outputs": [
    {
     "name": "stdout",
     "output_type": "stream",
     "text": [
      "Enter first side of triangle.10\n",
      "Enter second side:20\n",
      "Enter third side:20\n",
      "Area of triangle is:96.825\n"
     ]
    }
   ],
   "source": [
    "a=float(input(\"Enter first side of triangle.\"))\n",
    "b=float(input(\"Enter second side:\"))\n",
    "c=float(input(\"Enter third side:\"))\n",
    "s=(a+b+c)/2  #Calculating emi perimeter\n",
    "area=(s*(s-a)*(s-b)*(s-c))**0.5\n",
    "print(f'Area of triangle is:{area:.3f}')  #Using formatted string and prionting answer upto 3 decimal places"
   ]
  },
  {
   "cell_type": "markdown",
   "metadata": {},
   "source": [
    "Ques 4: Write a Python program to swap two variables."
   ]
  },
  {
   "cell_type": "code",
   "execution_count": 9,
   "metadata": {},
   "outputs": [
    {
     "name": "stdout",
     "output_type": "stream",
     "text": [
      "Enter first variable:abc\n",
      "Enter second variable:3\n",
      "before swapping:abc ,3\n",
      "After swapping:3 ,abc\n",
      "Swapping without extra space\n",
      "5\n",
      "9\n",
      "Before swapping : 5  9\n",
      "After swapping :  9  5\n"
     ]
    }
   ],
   "source": [
    "a=input(\"Enter first variable:\")\n",
    "b=input(\"Enter second variable:\")\n",
    "print(\"before swapping:{} ,{}\".format(a,b))\n",
    "(a,b)=(b,a)\n",
    "print(\"After swapping:{} ,{}\".format(a,b))\n",
    "\n",
    "# swapping two int without usig third variable\n",
    "print(\"Swapping without extra space\")\n",
    "x=int(input())\n",
    "y=int(input())\n",
    "print(f\"Before swapping : {x}  {y}\")\n",
    "x=x+y\n",
    "y=x-y\n",
    "x=x-y\n",
    "print(f\"After swapping :  {x}  {y}\")"
   ]
  },
  {
   "cell_type": "markdown",
   "metadata": {},
   "source": [
    "Ques 5: Write a Python program to generate a random number."
   ]
  },
  {
   "cell_type": "code",
   "execution_count": 6,
   "metadata": {},
   "outputs": [
    {
     "name": "stdout",
     "output_type": "stream",
     "text": [
      "0.2526576387702463\n",
      "1.0724825664297208\n",
      "5\n"
     ]
    }
   ],
   "source": [
    "#Using inbuilt package\n",
    "import random\n",
    "num=random.random() # random number betweeen [0,1). Zero inclusive and 1 exclusive\n",
    "print(num)\n",
    "num=random.uniform(1,10) #random float value between specified range\n",
    "print(num)\n",
    "num=random.randint(1,10) #give integer within specified range, both values inclusive\n",
    "print(num)\n"
   ]
  },
  {
   "cell_type": "code",
   "execution_count": null,
   "metadata": {},
   "outputs": [],
   "source": []
  }
 ],
 "metadata": {
  "kernelspec": {
   "display_name": "Python 3",
   "language": "python",
   "name": "python3"
  },
  "language_info": {
   "codemirror_mode": {
    "name": "ipython",
    "version": 3
   },
   "file_extension": ".py",
   "mimetype": "text/x-python",
   "name": "python",
   "nbconvert_exporter": "python",
   "pygments_lexer": "ipython3",
   "version": "3.8.3"
  }
 },
 "nbformat": 4,
 "nbformat_minor": 4
}
